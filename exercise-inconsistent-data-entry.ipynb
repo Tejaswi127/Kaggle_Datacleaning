{
 "cells": [
  {
   "cell_type": "markdown",
   "id": "02703ef4",
   "metadata": {
    "papermill": {
     "duration": 0.005743,
     "end_time": "2022-07-01T06:00:11.028760",
     "exception": false,
     "start_time": "2022-07-01T06:00:11.023017",
     "status": "completed"
    },
    "tags": []
   },
   "source": [
    "**This notebook is an exercise in the [Data Cleaning](https://www.kaggle.com/learn/data-cleaning) course.  You can reference the tutorial at [this link](https://www.kaggle.com/alexisbcook/inconsistent-data-entry).**\n",
    "\n",
    "---\n"
   ]
  },
  {
   "cell_type": "markdown",
   "id": "f79d7b95",
   "metadata": {
    "papermill": {
     "duration": 0.004009,
     "end_time": "2022-07-01T06:00:11.037623",
     "exception": false,
     "start_time": "2022-07-01T06:00:11.033614",
     "status": "completed"
    },
    "tags": []
   },
   "source": [
    "In this exercise, you'll apply what you learned in the **Inconsistent data entry** tutorial.\n",
    "\n",
    "# Setup\n",
    "\n",
    "The questions below will give you feedback on your work. Run the following cell to set up the feedback system."
   ]
  },
  {
   "cell_type": "code",
   "execution_count": 1,
   "id": "b898e1f6",
   "metadata": {
    "execution": {
     "iopub.execute_input": "2022-07-01T06:00:11.049102Z",
     "iopub.status.busy": "2022-07-01T06:00:11.048247Z",
     "iopub.status.idle": "2022-07-01T06:00:11.170079Z",
     "shell.execute_reply": "2022-07-01T06:00:11.169018Z"
    },
    "papermill": {
     "duration": 0.131066,
     "end_time": "2022-07-01T06:00:11.172999",
     "exception": false,
     "start_time": "2022-07-01T06:00:11.041933",
     "status": "completed"
    },
    "tags": []
   },
   "outputs": [
    {
     "name": "stdout",
     "output_type": "stream",
     "text": [
      "Setup Complete\n"
     ]
    }
   ],
   "source": [
    "from learntools.core import binder\n",
    "binder.bind(globals())\n",
    "from learntools.data_cleaning.ex5 import *\n",
    "print(\"Setup Complete\")"
   ]
  },
  {
   "cell_type": "markdown",
   "id": "09a2ca75",
   "metadata": {
    "papermill": {
     "duration": 0.004245,
     "end_time": "2022-07-01T06:00:11.182122",
     "exception": false,
     "start_time": "2022-07-01T06:00:11.177877",
     "status": "completed"
    },
    "tags": []
   },
   "source": [
    "# Get our environment set up\n",
    "\n",
    "The first thing we'll need to do is load in the libraries and dataset we'll be using.  We use the same dataset from the tutorial."
   ]
  },
  {
   "cell_type": "code",
   "execution_count": 2,
   "id": "5155a18d",
   "metadata": {
    "execution": {
     "iopub.execute_input": "2022-07-01T06:00:11.192501Z",
     "iopub.status.busy": "2022-07-01T06:00:11.191863Z",
     "iopub.status.idle": "2022-07-01T06:00:11.207813Z",
     "shell.execute_reply": "2022-07-01T06:00:11.206734Z"
    },
    "papermill": {
     "duration": 0.023982,
     "end_time": "2022-07-01T06:00:11.210377",
     "exception": false,
     "start_time": "2022-07-01T06:00:11.186395",
     "status": "completed"
    },
    "tags": []
   },
   "outputs": [],
   "source": [
    "# modules we'll use\n",
    "import pandas as pd\n",
    "import numpy as np\n",
    "\n",
    "# helpful modules\n",
    "import fuzzywuzzy\n",
    "from fuzzywuzzy import process\n",
    "import chardet\n",
    "\n",
    "# read in all our data\n",
    "professors = pd.read_csv(\"../input/pakistan-intellectual-capital/pakistan_intellectual_capital.csv\")\n",
    "\n",
    "# set seed for reproducibility\n",
    "np.random.seed(0)"
   ]
  },
  {
   "cell_type": "markdown",
   "id": "68657aa8",
   "metadata": {
    "papermill": {
     "duration": 0.004155,
     "end_time": "2022-07-01T06:00:11.218813",
     "exception": false,
     "start_time": "2022-07-01T06:00:11.214658",
     "status": "completed"
    },
    "tags": []
   },
   "source": [
    "Next, we'll redo all of the work that we did in the tutorial."
   ]
  },
  {
   "cell_type": "code",
   "execution_count": 3,
   "id": "5ed7bd25",
   "metadata": {
    "execution": {
     "iopub.execute_input": "2022-07-01T06:00:11.229355Z",
     "iopub.status.busy": "2022-07-01T06:00:11.228244Z",
     "iopub.status.idle": "2022-07-01T06:00:11.242973Z",
     "shell.execute_reply": "2022-07-01T06:00:11.241902Z"
    },
    "papermill": {
     "duration": 0.022152,
     "end_time": "2022-07-01T06:00:11.245130",
     "exception": false,
     "start_time": "2022-07-01T06:00:11.222978",
     "status": "completed"
    },
    "tags": []
   },
   "outputs": [
    {
     "name": "stdout",
     "output_type": "stream",
     "text": [
      "All done!\n"
     ]
    }
   ],
   "source": [
    "# convert to lower case\n",
    "professors['Country'] = professors['Country'].str.lower()\n",
    "# remove trailing white spaces\n",
    "professors['Country'] = professors['Country'].str.strip()\n",
    "\n",
    "# get the top 10 closest matches to \"south korea\"\n",
    "countries = professors['Country'].unique()\n",
    "matches = fuzzywuzzy.process.extract(\"south korea\", countries, limit=10, scorer=fuzzywuzzy.fuzz.token_sort_ratio)\n",
    "\n",
    "def replace_matches_in_column(df, column, string_to_match, min_ratio = 47):\n",
    "    # get a list of unique strings\n",
    "    strings = df[column].unique()\n",
    "    \n",
    "    # get the top 10 closest matches to our input string\n",
    "    matches = fuzzywuzzy.process.extract(string_to_match, strings, \n",
    "                                         limit=10, scorer=fuzzywuzzy.fuzz.token_sort_ratio)\n",
    "\n",
    "    # only get matches with a ratio > 90\n",
    "    close_matches = [matches[0] for matches in matches if matches[1] >= min_ratio]\n",
    "\n",
    "    # get the rows of all the close matches in our dataframe\n",
    "    rows_with_matches = df[column].isin(close_matches)\n",
    "\n",
    "    # replace all rows with close matches with the input matches \n",
    "    df.loc[rows_with_matches, column] = string_to_match\n",
    "    \n",
    "    # let us know the function's done\n",
    "    print(\"All done!\")\n",
    "    \n",
    "replace_matches_in_column(df=professors, column='Country', string_to_match=\"south korea\")\n",
    "countries = professors['Country'].unique()"
   ]
  },
  {
   "cell_type": "markdown",
   "id": "e1a46138",
   "metadata": {
    "papermill": {
     "duration": 0.00413,
     "end_time": "2022-07-01T06:00:11.253882",
     "exception": false,
     "start_time": "2022-07-01T06:00:11.249752",
     "status": "completed"
    },
    "tags": []
   },
   "source": [
    "# 1) Examine another column\n",
    "\n",
    "Write code below to take a look at all the unique values in the \"Graduated from\" column."
   ]
  },
  {
   "cell_type": "code",
   "execution_count": 4,
   "id": "a23c2b4e",
   "metadata": {
    "execution": {
     "iopub.execute_input": "2022-07-01T06:00:11.264534Z",
     "iopub.status.busy": "2022-07-01T06:00:11.263826Z",
     "iopub.status.idle": "2022-07-01T06:00:11.269634Z",
     "shell.execute_reply": "2022-07-01T06:00:11.268225Z"
    },
    "papermill": {
     "duration": 0.014,
     "end_time": "2022-07-01T06:00:11.272102",
     "exception": false,
     "start_time": "2022-07-01T06:00:11.258102",
     "status": "completed"
    },
    "tags": []
   },
   "outputs": [],
   "source": [
    "# TODO: Your code here\n",
    "unis = professors['Graduated from'].unique()"
   ]
  },
  {
   "cell_type": "markdown",
   "id": "3cf7f2a9",
   "metadata": {
    "papermill": {
     "duration": 0.004123,
     "end_time": "2022-07-01T06:00:11.280974",
     "exception": false,
     "start_time": "2022-07-01T06:00:11.276851",
     "status": "completed"
    },
    "tags": []
   },
   "source": [
    "Do you notice any inconsistencies in the data?  Can any of the inconsistencies in the data be fixed by removing white spaces at the beginning and end of cells?\n",
    "\n",
    "Once you have answered these questions, run the code cell below to get credit for your work."
   ]
  },
  {
   "cell_type": "code",
   "execution_count": 5,
   "id": "aad9a369",
   "metadata": {
    "execution": {
     "iopub.execute_input": "2022-07-01T06:00:11.291992Z",
     "iopub.status.busy": "2022-07-01T06:00:11.291074Z",
     "iopub.status.idle": "2022-07-01T06:00:11.301695Z",
     "shell.execute_reply": "2022-07-01T06:00:11.300511Z"
    },
    "papermill": {
     "duration": 0.018837,
     "end_time": "2022-07-01T06:00:11.304141",
     "exception": false,
     "start_time": "2022-07-01T06:00:11.285304",
     "status": "completed"
    },
    "tags": []
   },
   "outputs": [
    {
     "data": {
      "application/javascript": [
       "parent.postMessage({\"jupyterEvent\": \"custom.exercise_interaction\", \"data\": {\"outcomeType\": 1, \"valueTowardsCompletion\": 0.3333333333333333, \"interactionType\": 1, \"questionType\": 4, \"questionId\": \"1_ExamineProvince\", \"learnToolsVersion\": \"0.3.4\", \"failureMessage\": \"\", \"exceptionClass\": \"\", \"trace\": \"\"}}, \"*\")"
      ],
      "text/plain": [
       "<IPython.core.display.Javascript object>"
      ]
     },
     "metadata": {},
     "output_type": "display_data"
    },
    {
     "data": {
      "text/markdown": [
       "<span style=\"color:#33cc33\">Correct:</span> \n",
       "\n",
       "There are inconsistencies that can be fixed by removing white spaces at the beginning and end of cells.  For instance, \"University of Central Florida\" and \" University of Central Florida\" both appear in the column."
      ],
      "text/plain": [
       "Correct: \n",
       "\n",
       "There are inconsistencies that can be fixed by removing white spaces at the beginning and end of cells.  For instance, \"University of Central Florida\" and \" University of Central Florida\" both appear in the column."
      ]
     },
     "metadata": {},
     "output_type": "display_data"
    }
   ],
   "source": [
    "# Check your answer (Run this code cell to receive credit!)\n",
    "q1.check()"
   ]
  },
  {
   "cell_type": "code",
   "execution_count": 6,
   "id": "5641784f",
   "metadata": {
    "execution": {
     "iopub.execute_input": "2022-07-01T06:00:11.315512Z",
     "iopub.status.busy": "2022-07-01T06:00:11.314824Z",
     "iopub.status.idle": "2022-07-01T06:00:11.319474Z",
     "shell.execute_reply": "2022-07-01T06:00:11.318364Z"
    },
    "papermill": {
     "duration": 0.012277,
     "end_time": "2022-07-01T06:00:11.321492",
     "exception": false,
     "start_time": "2022-07-01T06:00:11.309215",
     "status": "completed"
    },
    "tags": []
   },
   "outputs": [],
   "source": [
    "# Line below will give you a hint\n",
    "#q1.hint()"
   ]
  },
  {
   "cell_type": "markdown",
   "id": "b02b38d2",
   "metadata": {
    "papermill": {
     "duration": 0.004176,
     "end_time": "2022-07-01T06:00:11.330168",
     "exception": false,
     "start_time": "2022-07-01T06:00:11.325992",
     "status": "completed"
    },
    "tags": []
   },
   "source": [
    "# 2) Do some text pre-processing\n",
    "\n",
    "Convert every entry in the \"Graduated from\" column in the `professors` DataFrame to remove white spaces at the beginning and end of cells."
   ]
  },
  {
   "cell_type": "code",
   "execution_count": 7,
   "id": "05248da5",
   "metadata": {
    "execution": {
     "iopub.execute_input": "2022-07-01T06:00:11.340852Z",
     "iopub.status.busy": "2022-07-01T06:00:11.340139Z",
     "iopub.status.idle": "2022-07-01T06:00:11.351503Z",
     "shell.execute_reply": "2022-07-01T06:00:11.350622Z"
    },
    "papermill": {
     "duration": 0.018812,
     "end_time": "2022-07-01T06:00:11.353340",
     "exception": false,
     "start_time": "2022-07-01T06:00:11.334528",
     "status": "completed"
    },
    "tags": []
   },
   "outputs": [
    {
     "data": {
      "application/javascript": [
       "parent.postMessage({\"jupyterEvent\": \"custom.exercise_interaction\", \"data\": {\"outcomeType\": 1, \"valueTowardsCompletion\": 0.3333333333333333, \"interactionType\": 1, \"questionType\": 1, \"questionId\": \"2_TextProcessing\", \"learnToolsVersion\": \"0.3.4\", \"failureMessage\": \"\", \"exceptionClass\": \"\", \"trace\": \"\"}}, \"*\")"
      ],
      "text/plain": [
       "<IPython.core.display.Javascript object>"
      ]
     },
     "metadata": {},
     "output_type": "display_data"
    },
    {
     "data": {
      "text/markdown": [
       "<span style=\"color:#33cc33\">Correct</span>"
      ],
      "text/plain": [
       "Correct"
      ]
     },
     "metadata": {},
     "output_type": "display_data"
    }
   ],
   "source": [
    "# TODO: Your code here\n",
    "professors['Graduated from'] = professors['Graduated from'].str.strip()\n",
    "\n",
    "# Check your answer\n",
    "q2.check()"
   ]
  },
  {
   "cell_type": "code",
   "execution_count": 8,
   "id": "b6d07cec",
   "metadata": {
    "execution": {
     "iopub.execute_input": "2022-07-01T06:00:11.364415Z",
     "iopub.status.busy": "2022-07-01T06:00:11.363783Z",
     "iopub.status.idle": "2022-07-01T06:00:11.367878Z",
     "shell.execute_reply": "2022-07-01T06:00:11.366832Z"
    },
    "papermill": {
     "duration": 0.011865,
     "end_time": "2022-07-01T06:00:11.369779",
     "exception": false,
     "start_time": "2022-07-01T06:00:11.357914",
     "status": "completed"
    },
    "tags": []
   },
   "outputs": [],
   "source": [
    "# Lines below will give you a hint or solution code\n",
    "#q2.hint()\n",
    "#q2.solution()"
   ]
  },
  {
   "cell_type": "markdown",
   "id": "4579e8e9",
   "metadata": {
    "papermill": {
     "duration": 0.00436,
     "end_time": "2022-07-01T06:00:11.378727",
     "exception": false,
     "start_time": "2022-07-01T06:00:11.374367",
     "status": "completed"
    },
    "tags": []
   },
   "source": [
    "# 3) Continue working with countries\n",
    "\n",
    "In the tutorial, we focused on cleaning up inconsistencies in the \"Country\" column.  Run the code cell below to view the list of unique values that we ended with."
   ]
  },
  {
   "cell_type": "code",
   "execution_count": 9,
   "id": "13074b26",
   "metadata": {
    "execution": {
     "iopub.execute_input": "2022-07-01T06:00:11.390072Z",
     "iopub.status.busy": "2022-07-01T06:00:11.389480Z",
     "iopub.status.idle": "2022-07-01T06:00:11.396600Z",
     "shell.execute_reply": "2022-07-01T06:00:11.395447Z"
    },
    "papermill": {
     "duration": 0.01526,
     "end_time": "2022-07-01T06:00:11.398726",
     "exception": false,
     "start_time": "2022-07-01T06:00:11.383466",
     "status": "completed"
    },
    "tags": []
   },
   "outputs": [
    {
     "data": {
      "text/plain": [
       "array(['australia', 'austria', 'canada', 'china', 'finland', 'france',\n",
       "       'germany', 'greece', 'hongkong', 'ireland', 'italy', 'japan',\n",
       "       'macau', 'malaysia', 'mauritius', 'netherland', 'new zealand',\n",
       "       'norway', 'pakistan', 'portugal', 'russian federation',\n",
       "       'saudi arabia', 'scotland', 'singapore', 'south korea', 'spain',\n",
       "       'sweden', 'thailand', 'turkey', 'uk', 'urbana', 'usa', 'usofa'],\n",
       "      dtype=object)"
      ]
     },
     "execution_count": 9,
     "metadata": {},
     "output_type": "execute_result"
    }
   ],
   "source": [
    "# get all the unique values in the 'City' column\n",
    "countries = professors['Country'].unique()\n",
    "\n",
    "# sort them alphabetically and then take a closer look\n",
    "countries.sort()\n",
    "countries"
   ]
  },
  {
   "cell_type": "markdown",
   "id": "5257190b",
   "metadata": {
    "papermill": {
     "duration": 0.004519,
     "end_time": "2022-07-01T06:00:11.408127",
     "exception": false,
     "start_time": "2022-07-01T06:00:11.403608",
     "status": "completed"
    },
    "tags": []
   },
   "source": [
    "Take another look at the \"Country\" column and see if there's any more data cleaning we need to do.\n",
    "\n",
    "It looks like 'usa' and 'usofa' should be the same country.  Correct the \"Country\" column in the dataframe to replace 'usofa' with 'usa'.\n",
    "\n",
    "**Use the most recent version of the DataFrame (with the whitespaces at the beginning and end of cells removed) from question 2.**"
   ]
  },
  {
   "cell_type": "code",
   "execution_count": 10,
   "id": "df426671",
   "metadata": {
    "execution": {
     "iopub.execute_input": "2022-07-01T06:00:11.420306Z",
     "iopub.status.busy": "2022-07-01T06:00:11.419630Z",
     "iopub.status.idle": "2022-07-01T06:00:11.431751Z",
     "shell.execute_reply": "2022-07-01T06:00:11.430542Z"
    },
    "papermill": {
     "duration": 0.020872,
     "end_time": "2022-07-01T06:00:11.433882",
     "exception": false,
     "start_time": "2022-07-01T06:00:11.413010",
     "status": "completed"
    },
    "tags": []
   },
   "outputs": [
    {
     "name": "stdout",
     "output_type": "stream",
     "text": [
      "All done!\n"
     ]
    },
    {
     "data": {
      "application/javascript": [
       "parent.postMessage({\"jupyterEvent\": \"custom.exercise_interaction\", \"data\": {\"outcomeType\": 1, \"valueTowardsCompletion\": 0.3333333333333333, \"interactionType\": 1, \"questionType\": 1, \"questionId\": \"3_WorkingWithCities\", \"learnToolsVersion\": \"0.3.4\", \"failureMessage\": \"\", \"exceptionClass\": \"\", \"trace\": \"\"}}, \"*\")"
      ],
      "text/plain": [
       "<IPython.core.display.Javascript object>"
      ]
     },
     "metadata": {},
     "output_type": "display_data"
    },
    {
     "data": {
      "text/markdown": [
       "<span style=\"color:#33cc33\">Correct</span>"
      ],
      "text/plain": [
       "Correct"
      ]
     },
     "metadata": {},
     "output_type": "display_data"
    }
   ],
   "source": [
    "# TODO: Your code here!\n",
    "matches = fuzzywuzzy.process.extract(\"usa\", countries, limit=10, scorer=fuzzywuzzy.fuzz.token_sort_ratio)\n",
    "replace_matches_in_column(df=professors, column='Country', string_to_match=\"usa\", min_ratio=70)\n",
    "\n",
    "# Check your answer\n",
    "q3.check()"
   ]
  },
  {
   "cell_type": "code",
   "execution_count": 11,
   "id": "5252a83e",
   "metadata": {
    "execution": {
     "iopub.execute_input": "2022-07-01T06:00:11.446016Z",
     "iopub.status.busy": "2022-07-01T06:00:11.445491Z",
     "iopub.status.idle": "2022-07-01T06:00:11.448943Z",
     "shell.execute_reply": "2022-07-01T06:00:11.448163Z"
    },
    "papermill": {
     "duration": 0.011632,
     "end_time": "2022-07-01T06:00:11.450878",
     "exception": false,
     "start_time": "2022-07-01T06:00:11.439246",
     "status": "completed"
    },
    "tags": []
   },
   "outputs": [],
   "source": [
    "# Lines below will give you a hint or solution code\n",
    "#q3.hint()\n",
    "#q3.solution()"
   ]
  },
  {
   "cell_type": "markdown",
   "id": "a50a31ac",
   "metadata": {
    "papermill": {
     "duration": 0.004709,
     "end_time": "2022-07-01T06:00:11.460529",
     "exception": false,
     "start_time": "2022-07-01T06:00:11.455820",
     "status": "completed"
    },
    "tags": []
   },
   "source": [
    "# Congratulations!\n",
    "\n",
    "Congratulations for completing the **Data Cleaning** course on Kaggle Learn!\n",
    "\n",
    "To practice your new skills, you're encouraged to download and investigate some of [Kaggle's Datasets](https://www.kaggle.com/datasets)."
   ]
  },
  {
   "cell_type": "markdown",
   "id": "de5c7e9e",
   "metadata": {
    "papermill": {
     "duration": 0.004701,
     "end_time": "2022-07-01T06:00:11.470313",
     "exception": false,
     "start_time": "2022-07-01T06:00:11.465612",
     "status": "completed"
    },
    "tags": []
   },
   "source": [
    "---\n",
    "\n",
    "\n",
    "\n",
    "\n",
    "*Have questions or comments? Visit the [course discussion forum](https://www.kaggle.com/learn/data-cleaning/discussion) to chat with other learners.*"
   ]
  }
 ],
 "metadata": {
  "kernelspec": {
   "display_name": "Python 3",
   "language": "python",
   "name": "python3"
  },
  "language_info": {
   "codemirror_mode": {
    "name": "ipython",
    "version": 3
   },
   "file_extension": ".py",
   "mimetype": "text/x-python",
   "name": "python",
   "nbconvert_exporter": "python",
   "pygments_lexer": "ipython3",
   "version": "3.7.12"
  },
  "papermill": {
   "default_parameters": {},
   "duration": 10.258902,
   "end_time": "2022-07-01T06:00:12.096849",
   "environment_variables": {},
   "exception": null,
   "input_path": "__notebook__.ipynb",
   "output_path": "__notebook__.ipynb",
   "parameters": {},
   "start_time": "2022-07-01T06:00:01.837947",
   "version": "2.3.4"
  }
 },
 "nbformat": 4,
 "nbformat_minor": 5
}
